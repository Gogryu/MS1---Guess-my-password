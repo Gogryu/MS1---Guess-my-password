{
 "cells": [
  {
   "cell_type": "code",
   "execution_count": 76,
   "id": "7869f4dd",
   "metadata": {},
   "outputs": [
    {
     "name": "stdout",
     "output_type": "stream",
     "text": [
      "125 µs ± 1.32 µs per loop (mean ± std. dev. of 7 runs, 10000 loops each)\n"
     ]
    }
   ],
   "source": [
    "# %%timeit\n",
    "\n",
    "#MS1 - Guess my password\n",
    "\n",
    "def password_seek(first_num, arr1, records, arr_b4, arr_4f):\n",
    "    records = []\n",
    "    for num in arr1:\n",
    "            if first_num not in num:\n",
    "                pass\n",
    "            else:\n",
    "                if num[0] == first_num:\n",
    "                    if num[1] not in arr_4f:\n",
    "                        arr_4f.append(num[1])\n",
    "                    if num[2] not in arr_4f:\n",
    "                        arr_4f.append(num[2])\n",
    "                elif num[1] == first_num:\n",
    "                    if num[0] not in arr_b4:\n",
    "                        arr_b4.append(num[0])\n",
    "                    if num[2] not in arr_4f:\n",
    "                        arr_4f.append(num[2])\n",
    "                elif num[2] == first_num:\n",
    "                    if num[0] not in arr_b4:\n",
    "                        arr_b4.append(num[0])\n",
    "                    if num[1] not in arr_b4:\n",
    "                        arr_b4.append(num[1])\n",
    "    records.append(arr_b4)\n",
    "    records.append(first_num)\n",
    "    records.append(arr_4f)\n",
    "    return records\n",
    "\n",
    "def passworder(file):\n",
    "    with open(file,\"r\") as f:\n",
    "        lines = f.readlines()\n",
    "        arr1 = []\n",
    "        for line in lines:\n",
    "            array_lines = line.strip(\"\\n\")\n",
    "            arr1.append(array_lines)\n",
    "        arr_b4 = []\n",
    "        arr_4f = []\n",
    "        guesslist_b4 = []\n",
    "        guesslist_4f = []\n",
    "        records = []\n",
    "        first_num = arr1[0][0]\n",
    "        second_num = arr1[0][1]\n",
    "        third_num = arr1[1][0]\n",
    "        records = password_seek(first_num, arr1, records,arr_b4,arr_4f)\n",
    "        arr_b4.append(records[1])\n",
    "        records = password_seek(second_num, arr1, records,arr_b4,arr_4f)\n",
    "        arr_b4.append(records[1])\n",
    "        records = password_seek(third_num, arr1, records,arr_b4,arr_4f)\n",
    "        arr_b4.append(records[1])\n",
    "        third_num = arr1[4][1]\n",
    "        records = password_seek(third_num, arr1, records,arr_b4,arr_4f)\n",
    "        arr_b4.append(records[1])\n",
    "        third_num = arr1[0][2]\n",
    "        records = password_seek(third_num, arr1, records,arr_b4,arr_4f)\n",
    "        #half = []\n",
    "\n",
    "        for j in arr_b4:\n",
    "            if j in arr_4f:\n",
    "                arr_4f.remove(j)\n",
    "        semi = \"\".join(records[0])\n",
    "        second_semi = \"\".join(records[2])\n",
    "        full = semi + second_semi\n",
    "        return full\n",
    "\n",
    "passworder(\"keylog.txt\")"
   ]
  },
  {
   "cell_type": "code",
   "execution_count": null,
   "id": "5707d38f",
   "metadata": {},
   "outputs": [],
   "source": []
  }
 ],
 "metadata": {
  "kernelspec": {
   "display_name": "Python 3 (ipykernel)",
   "language": "python",
   "name": "python3"
  },
  "language_info": {
   "codemirror_mode": {
    "name": "ipython",
    "version": 3
   },
   "file_extension": ".py",
   "mimetype": "text/x-python",
   "name": "python",
   "nbconvert_exporter": "python",
   "pygments_lexer": "ipython3",
   "version": "3.9.13"
  }
 },
 "nbformat": 4,
 "nbformat_minor": 5
}
